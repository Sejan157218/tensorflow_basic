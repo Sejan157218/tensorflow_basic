{
 "cells": [
  {
   "cell_type": "markdown",
   "id": "b15f82aa",
   "metadata": {},
   "source": [
    "# It works with list, tuple, scaler, Numpy array\n",
    "tf variable/constant/placeholder/SparceMatrix with each other and with scaler and with list/tuple"
   ]
  },
  {
   "cell_type": "code",
   "execution_count": 2,
   "id": "dafcd31d",
   "metadata": {},
   "outputs": [],
   "source": [
    "import tensorflow as tf\n",
    "import numpy as np"
   ]
  },
  {
   "cell_type": "code",
   "execution_count": 11,
   "id": "74878ed4",
   "metadata": {},
   "outputs": [],
   "source": [
    "npa1 = np.array([1,4,3,9,5])\n",
    "npa2 = np.array([2,2,3,4,5])\n",
    "scaler = 10"
   ]
  },
  {
   "cell_type": "code",
   "execution_count": 12,
   "id": "d2730b48",
   "metadata": {},
   "outputs": [
    {
     "data": {
      "text/plain": [
       "<tf.Tensor: shape=(5,), dtype=int64, numpy=array([ 3,  6,  6, 13, 10])>"
      ]
     },
     "execution_count": 12,
     "metadata": {},
     "output_type": "execute_result"
    }
   ],
   "source": [
    "# add\n",
    "tf.add(npa1, npa2)"
   ]
  },
  {
   "cell_type": "code",
   "execution_count": 13,
   "id": "d30972bc",
   "metadata": {},
   "outputs": [
    {
     "data": {
      "text/plain": [
       "<tf.Tensor: shape=(5,), dtype=int64, numpy=array([-1,  2,  0,  5,  0])>"
      ]
     },
     "execution_count": 13,
     "metadata": {},
     "output_type": "execute_result"
    }
   ],
   "source": [
    "# subtract\n",
    "tf.subtract(npa1, npa2)"
   ]
  },
  {
   "cell_type": "code",
   "execution_count": 14,
   "id": "67419b46",
   "metadata": {},
   "outputs": [
    {
     "data": {
      "text/plain": [
       "<tf.Tensor: shape=(5,), dtype=int64, numpy=array([ 2,  8,  9, 36, 25])>"
      ]
     },
     "execution_count": 14,
     "metadata": {},
     "output_type": "execute_result"
    }
   ],
   "source": [
    "# multiply\n",
    "tf.multiply(npa1, npa2)"
   ]
  },
  {
   "cell_type": "code",
   "execution_count": 15,
   "id": "6aa05bd3",
   "metadata": {},
   "outputs": [
    {
     "data": {
      "text/plain": [
       "<tf.Tensor: shape=(5,), dtype=float64, numpy=array([0.2, 0.2, 0.3, 0.4, 0.5])>"
      ]
     },
     "execution_count": 15,
     "metadata": {},
     "output_type": "execute_result"
    }
   ],
   "source": [
    "# divide\n",
    "tf.divide(npa2,scaler)"
   ]
  },
  {
   "cell_type": "code",
   "execution_count": 16,
   "id": "d8c7e5b2",
   "metadata": {},
   "outputs": [
    {
     "data": {
      "text/plain": [
       "<tf.Tensor: shape=(5,), dtype=float64, numpy=array([2.        , 0.5       , 1.        , 0.44444444, 1.        ])>"
      ]
     },
     "execution_count": 16,
     "metadata": {},
     "output_type": "execute_result"
    }
   ],
   "source": [
    "tf.divide(npa2,npa1)"
   ]
  },
  {
   "cell_type": "code",
   "execution_count": 19,
   "id": "ead2fb54",
   "metadata": {},
   "outputs": [
    {
     "data": {
      "text/plain": [
       "<tf.Tensor: shape=(3,), dtype=float64, numpy=array([2., 3., 4.])>"
      ]
     },
     "execution_count": 19,
     "metadata": {},
     "output_type": "execute_result"
    }
   ],
   "source": [
    "# sqrt\n",
    "# int not supprt\n",
    "npa3 = np.array([4.0,9.0,16.0])\n",
    "tf.sqrt(npa3)"
   ]
  },
  {
   "cell_type": "code",
   "execution_count": 20,
   "id": "384c300f",
   "metadata": {},
   "outputs": [
    {
     "data": {
      "text/plain": [
       "<tf.Tensor: shape=(5,), dtype=int64, numpy=array([  1,  64,  27, 729, 125])>"
      ]
     },
     "execution_count": 20,
     "metadata": {},
     "output_type": "execute_result"
    }
   ],
   "source": [
    "# pow\n",
    "tf.pow(npa1,3)"
   ]
  },
  {
   "cell_type": "code",
   "execution_count": 22,
   "id": "dc62e4bc",
   "metadata": {},
   "outputs": [
    {
     "data": {
      "text/plain": [
       "<tf.Tensor: shape=(5,), dtype=int64, numpy=array([2, 4, 3, 9, 5])>"
      ]
     },
     "execution_count": 22,
     "metadata": {},
     "output_type": "execute_result"
    }
   ],
   "source": [
    "# maximum\n",
    "tf.maximum(npa1, npa2)"
   ]
  },
  {
   "cell_type": "code",
   "execution_count": 23,
   "id": "0f410f07",
   "metadata": {},
   "outputs": [
    {
     "data": {
      "text/plain": [
       "<tf.Tensor: shape=(5,), dtype=int64, numpy=array([1, 2, 3, 4, 5])>"
      ]
     },
     "execution_count": 23,
     "metadata": {},
     "output_type": "execute_result"
    }
   ],
   "source": [
    "# minimum\n",
    "tf.minimum(npa1, npa2)"
   ]
  },
  {
   "cell_type": "code",
   "execution_count": null,
   "id": "2e346061",
   "metadata": {},
   "outputs": [],
   "source": []
  }
 ],
 "metadata": {
  "kernelspec": {
   "display_name": "Python 3 (ipykernel)",
   "language": "python",
   "name": "python3"
  },
  "language_info": {
   "codemirror_mode": {
    "name": "ipython",
    "version": 3
   },
   "file_extension": ".py",
   "mimetype": "text/x-python",
   "name": "python",
   "nbconvert_exporter": "python",
   "pygments_lexer": "ipython3",
   "version": "3.11.3"
  }
 },
 "nbformat": 4,
 "nbformat_minor": 5
}
